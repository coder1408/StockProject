{
 "cells": [
  {
   "cell_type": "code",
   "execution_count": 3,
   "metadata": {},
   "outputs": [],
   "source": [
    "import requests\n",
    "import pandas as pd"
   ]
  },
  {
   "cell_type": "code",
   "execution_count": 4,
   "metadata": {},
   "outputs": [],
   "source": [
    "headers = {\n",
    "    'Accept':\n",
    "    'text/html,application/xhtml+xml,application/xml;q=0.9,image/avif,image/webp,image/apng,*/*;q=0.8',\n",
    "    'Accept-Encoding':\n",
    "    'gzip, deflate, br',\n",
    "    'Accept-Language':\n",
    "    'en-US,en;q=0.7',\n",
    "    'Cache-Control':\n",
    "    'max-age=0',\n",
    "    'Cookie':\n",
    "    'AKA_A2=A; ak_bmsc=BDA896400A0016BF38CE27E86895530C~000000000000000000000000000000~YAAQZgHVFyxzOFiNAQAAL13FwRapOIoXHu3UJ6HfhYzk6+0r3rVT6I6EPK+NHYYch9JAYLEYoAdDY1nSQM8AsjHobi73fdS/JjMtokhOkueUtUAfb39UQDhqbqiXmN53ylhyq5hXcgT0+Cmem71XpdKzAeNbFgZHuwAP5ONHMG+I8FzlBn3D/R0XHiTzA0Ruc52iMfPnHtUywZgRPN4Swk0V3NJHt2BjP+sc4UM02jj2GDzLwQ59eAXjdRacGRF6nyPqzr47sjmRUSqzqhOXy2rjnb9tam01560asZZ5Y1+w/Q3StSpn19DTpPni+mPssWR0I86fKvGKJQg512R+Hc+ilvQqkWJJcwUhyvHmOxD+l8fOFHWk0XE74tfWBLK/E5alA65uBFLh9Tkawg==; defaultLang=en; bm_mi=DFAD27F7705572FDF54CACABE194ACA5~YAAQZgHVF2dMOViNAQAAFZDPwRY9rg7cg8dI/+gAV6JtukX5H21jFmUZeqzoz8Yi2RWU3ZfbyvJOxKdd73lB49yCDHWuJHDUEVghgBKHHEOth+jKh8YVkYDOGZzQPhz4+twWCWPp7YRWLAMTBHPoaHd05YE9G16iSZvQhePX+EfA+tlQeRK0IMFcE9s4Na5aZKesjfXJyKs/HTJSNljVHrV1uctnMIaT7U0cp/0f/GwVClyB7h0jtG3ShI5XZtmtXrqmIsGl6qww24A4oypXjraw2nlmj5lBsvl7s2rTCEVW+Z1Nfs6K7x7ZCjoZjeKXlvSD8tBRMyWyWqLbT5BXLBuqualeXDcjVBN4S1cCgLe2fL2fiKusI0vw~1; bm_sv=1C3F05FB7AE5B01A99E23FCFF198B340~YAAQZgHVF6tMOViNAQAAopLPwRa7Ct1IZIeib6N7SPdUK8tObms3SOZYwev/HIJehIIBQUI+T3rJ+tEkR0tFnygLSX4+Y2dY6E6Hij4tmyGaeEVikY7WMs84AMIJDqhu0PivgF6D86dg4yGbImSjgQPcGE6NiqHu+jef6PMtdeA9XrFqVPNL/DidspZt/HGp7VoM/iQXLdN+PkOWocU4jsIy/KlFlmJKoK5Vczh8xDJyeCjOlq0v9YORHNJAyOZK87DV~1',\n",
    "    'User-Agent':\n",
    "    'Mozilla/5.0 (Windows NT 10.0; Win64; x64) AppleWebKit/537.36 (KHTML, like Gecko) Chrome/121.0.0.0 Safari/537.36'\n",
    "}"
   ]
  },
  {
   "cell_type": "code",
   "execution_count": 5,
   "metadata": {},
   "outputs": [],
   "source": [
    "request = requests.get(url=\"https://www.nseindia.com/report-detail/display-bulk-and-block-deals\", headers=headers)"
   ]
  },
  {
   "cell_type": "code",
   "execution_count": 6,
   "metadata": {},
   "outputs": [
    {
     "data": {
      "text/plain": [
       "<Response [200]>"
      ]
     },
     "execution_count": 6,
     "metadata": {},
     "output_type": "execute_result"
    }
   ],
   "source": [
    "request"
   ]
  }
 ],
 "metadata": {
  "kernelspec": {
   "display_name": "Python 3",
   "language": "python",
   "name": "python3"
  },
  "language_info": {
   "codemirror_mode": {
    "name": "ipython",
    "version": 3
   },
   "file_extension": ".py",
   "mimetype": "text/x-python",
   "name": "python",
   "nbconvert_exporter": "python",
   "pygments_lexer": "ipython3",
   "version": "3.11.0"
  }
 },
 "nbformat": 4,
 "nbformat_minor": 2
}
