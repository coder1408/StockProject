{
 "cells": [
  {
   "cell_type": "code",
   "execution_count": 2,
   "metadata": {},
   "outputs": [],
   "source": [
    "import pandas as pd\n",
    "import requests\n",
    "from bs4 import BeautifulSoup as bs\n",
    "from datetime import date"
   ]
  },
  {
   "cell_type": "code",
   "execution_count": 3,
   "metadata": {},
   "outputs": [],
   "source": [
    "today = date.today()\n",
    "d1 = today.strftime(\"%d-%m-%Y\")"
   ]
  },
  {
   "cell_type": "code",
   "execution_count": 4,
   "metadata": {},
   "outputs": [],
   "source": [
    "url = 'https://chartink.com/screener/process'\n",
    "\n",
    "n500_w_ma100 = {'scan_clause': '( {57960} ( ( {cash} ( latest volume >= 1 day ago volume * 2 or 1 day ago volume >= 2 days ago volume * 2 ) ) and ( {cash} ( ( {cash} ( ( {cash} ( abs ( weekly sma ( weekly close , 100 ) - weekly low ) / weekly low < 0.05 ) ) or ( {cash} ( latest low < weekly sma ( weekly close , 100 ) and latest high > weekly sma ( weekly close , 100 ) ) ) ) ) ) ) ) ) '}\n",
    "n500_m_ma100 = {'scan_clause': '( {57960} ( ( {cash} ( latest volume >= 1 day ago volume * 2 or 1 day ago volume >= 2 days ago volume * 2 ) ) and ( {cash} ( ( {cash} ( abs ( monthly sma ( monthly close , 100 ) - monthly low ) / monthly low < 0.05 ) ) or ( {cash} ( latest low < monthly sma ( monthly close , 100 ) and latest high > monthly sma ( monthly close , 100 ) ) ) ) ) ) ) '}\n",
    "n500_d_ma100 = {'scan_clause': '( {57960} ( ( {cash} ( latest volume >= 1 day ago volume * 2 or 1 day ago volume >= 2 days ago volume * 2 ) ) and ( {cash} ( ( {cash} ( abs ( latest sma ( latest close , 100 ) - latest low ) / latest low < 0.05 ) ) or ( {cash} ( latest low < latest sma ( latest close , 100 ) and latest high > latest sma ( latest close , 100 ) ) ) ) ) ) ) '}\n",
    "n500_d_ma513 = {'scan_clause': '( {57960} ( ( {cash} ( latest volume >= 1 day ago volume * 2 or 1 day ago volume >= 2 days ago volume * 2 ) ) and ( {cash} ( ( {cash} ( ( {cash} ( ( {cash} ( latest close > latest ema ( latest close , 5 ) and 1 day ago  close <= 1 day ago  ema ( latest close , 5 ) ) ) or ( {cash} ( abs ( latest ema ( latest close , 5 ) - latest ema ( latest close , 13 ) ) / latest ema ( latest close , 13 ) < 0.005 ) ) ) ) and 1 day ago high < 2 days ago high and latest high > 1 day ago high ) ) or ( {cash} ( latest ema ( latest close , 5 ) > latest ema ( latest close , 13 ) and 1 day ago  ema ( latest close , 5 )<= 1 day ago  ema ( latest close , 13 ) ) ) ) ) ) ) '}\n",
    "n500_m_ma513 = {'scan_clause': '( {57960} ( ( {cash} ( latest volume >= 1 day ago volume * 2 or 1 day ago volume >= 2 days ago volume * 2 ) ) and ( {cash} ( ( {cash} ( ( {cash} ( ( {cash} ( abs ( monthly ema ( monthly close , 5 ) - monthly ema ( monthly close , 13 ) ) / monthly ema ( monthly close , 13 ) < 0.005 ) ) ) ) and 1 month ago high < 2 months ago high and monthly high > 1 month ago high ) ) or ( {cash} ( monthly ema ( monthly close , 5 ) > monthly ema ( monthly close , 13 ) and 1 month ago  ema ( monthly close , 5 )<= 1 month ago  ema ( monthly close , 13 ) ) ) ) ) ) ) '}\n",
    "n500_w_ma513 = {'scan_clause': '( {57960} ( ( {cash} ( latest volume >= 1 day ago volume * 2 or 1 day ago volume >= 2 days ago volume * 2 ) ) and ( {cash} ( ( {cash} ( ( {cash} ( ( {cash} ( abs ( weekly ema ( weekly close , 5 ) - weekly ema ( weekly close , 13 ) ) / weekly ema ( weekly close , 13 ) < 0.005 ) ) ) ) and 1 week ago high < 2 weeks ago high and weekly high > 1 week ago high ) ) or ( {cash} ( weekly ema ( weekly close , 5 ) > weekly ema ( weekly close , 13 ) and 1 week ago  ema ( weekly close , 5 )<= 1 week ago  ema ( weekly close , 13 ) ) ) ) ) ) ) '}\n",
    "cash_m_ma100 = {'scan_clause': '( {cash} ( ( {cash} ( latest volume >= 1 day ago volume * 2 or 1 day ago volume >= 2 days ago volume * 2 ) ) and ( {cash} ( ( {cash} ( abs ( monthly sma ( monthly close , 100 ) - monthly low ) / monthly low < 0.05 ) ) or ( {cash} ( latest low < monthly sma ( monthly close , 100 ) and latest high > monthly sma ( monthly close , 100 ) ) ) ) ) ) ) '}\n",
    "cash_d_ma100 = {'scan_clause': '( {cash} ( ( {cash} ( latest volume >= 1 day ago volume * 2 or 1 day ago volume >= 2 days ago volume * 2 ) ) and ( {cash} ( ( {cash} ( abs ( latest sma ( latest close , 100 ) - latest low ) / latest low < 0.05 ) ) or ( {cash} ( latest low < latest sma ( latest close , 100 ) and latest high > latest sma ( latest close , 100 ) ) ) ) ) ) ) '}\n",
    "cash_d_ma513 = {'scan_clause': '( {cash} ( ( {cash} ( latest volume >= 1 day ago volume * 2 or 1 day ago volume >= 2 days ago volume * 2 ) ) and ( {cash} ( ( {cash} ( ( {cash} ( ( {cash} ( abs ( latest ema ( latest close , 5 ) - latest ema ( latest close , 13 ) ) / latest ema ( latest close , 13 ) < 0.005 ) ) ) ) and 1 day ago high < 2 days ago high and latest high > 1 day ago high ) ) or ( {cash} ( latest ema ( latest close , 5 ) > latest ema ( latest close , 13 ) and 1 day ago  ema ( latest close , 5 )<= 1 day ago  ema ( latest close , 13 ) ) ) ) ) ) ) '}\n",
    "cash_m_ma513 = {'scan_clause': '( {cash} ( ( {cash} ( latest volume >= 1 day ago volume * 2 or 1 day ago volume >= 2 days ago volume * 2 ) ) and ( {cash} ( ( {cash} ( ( {cash} ( ( {cash} ( abs ( monthly ema ( monthly close , 5 ) - monthly ema ( monthly close , 13 ) ) / monthly ema ( monthly close , 13 ) < 0.005 ) ) ) ) and 1 month ago high < 2 months ago high and monthly high > 1 month ago high ) ) or ( {cash} ( monthly ema ( monthly close , 5 ) > monthly ema ( monthly close , 13 ) and 1 month ago  ema ( monthly close , 5 )<= 1 month ago  ema ( monthly close , 13 ) ) ) ) ) ) ) '}\n",
    "cash_w_ma513 = {'scan_clause': '( {cash} ( ( {cash} ( latest volume >= 1 day ago volume * 2 or 1 day ago volume >= 2 days ago volume * 2 ) ) and ( {cash} ( ( {cash} ( ( {cash} ( ( {cash} ( abs ( weekly ema ( weekly close , 5 ) - weekly ema ( weekly close , 13 ) ) / weekly ema ( weekly close , 13 ) < 0.005 ) ) ) ) and 1 week ago high < 2 weeks ago high and weekly high > 1 week ago high ) ) or ( {cash} ( weekly ema ( weekly close , 5 ) > weekly ema ( weekly close , 13 ) and 1 week ago  ema ( weekly close , 5 )<= 1 week ago  ema ( weekly close , 13 ) ) ) ) ) ) ) '}\n",
    "n50_m_ma100 = {'scan_clause': '( {33492} ( ( {cash} ( latest volume >= 1 day ago volume * 2 or 1 day ago volume >= 2 days ago volume * 2 ) ) and ( {cash} ( ( {cash} ( abs ( monthly sma ( monthly close , 100 ) - monthly low ) / monthly low < 0.05 ) ) or ( {cash} ( latest low < monthly sma ( monthly close , 100 ) and latest high > monthly sma ( monthly close , 100 ) ) ) ) ) ) ) '}\n",
    "n50_d_ma100 = {'scan_clause': '( {33492} ( ( {cash} ( latest volume >= 1 day ago volume * 2 or 1 day ago volume >= 2 days ago volume * 2 ) ) and ( {cash} ( ( {cash} ( abs ( latest sma ( latest close , 100 ) - latest low ) / latest low < 0.05 ) ) or ( {cash} ( latest low < latest sma ( latest close , 100 ) and latest high > latest sma ( latest close , 100 ) ) ) ) ) ) ) '}\n",
    "n50_w_ma100 = {'scan_clause': '( {33492} ( ( {cash} ( latest volume >= 1 day ago volume * 2 or 1 day ago volume >= 2 days ago volume * 2 ) ) and ( {cash} ( ( {cash} ( ( {cash} ( abs ( weekly sma ( weekly close , 100 ) - weekly low ) / weekly low < 0.05 ) ) or ( {cash} ( latest low < weekly sma ( weekly close , 100 ) and latest high > weekly sma ( weekly close , 100 ) ) ) ) ) ) ) ) ) '}\n",
    "n50_d_ma513 = {'scan_clause': '( {33492} ( ( {cash} ( latest volume >= 1 day ago volume * 2 or 1 day ago volume >= 2 days ago volume * 2 ) ) and ( {cash} ( ( {cash} ( ( {cash} ( ( {cash} ( latest close > latest ema ( latest close , 5 ) and 1 day ago  close <= 1 day ago  ema ( latest close , 5 ) ) ) or ( {cash} ( abs ( latest ema ( latest close , 5 ) - latest ema ( latest close , 13 ) ) / latest ema ( latest close , 13 ) < 0.005 ) ) ) ) and 1 day ago high < 2 days ago high and latest high > 1 day ago high ) ) or ( {cash} ( latest ema ( latest close , 5 ) > latest ema ( latest close , 13 ) and 1 day ago  ema ( latest close , 5 )<= 1 day ago  ema ( latest close , 13 ) ) ) ) ) ) ) '}\n",
    "n50_m_ma513 = {'scan_clause': '( {33492} ( ( {cash} ( latest volume >= 1 day ago volume * 2 or 1 day ago volume >= 2 days ago volume * 2 ) ) and ( {cash} ( ( {cash} ( ( {cash} ( ( {cash} ( abs ( monthly ema ( monthly close , 5 ) - monthly ema ( monthly close , 13 ) ) / monthly ema ( monthly close , 13 ) < 0.005 ) ) ) ) and 1 month ago high < 2 months ago high and monthly high > 1 month ago high ) ) or ( {cash} ( monthly ema ( monthly close , 5 ) > monthly ema ( monthly close , 13 ) and 1 month ago  ema ( monthly close , 5 )<= 1 month ago  ema ( monthly close , 13 ) ) ) ) ) ) ) '}\n",
    "n50_w_ma513 = {'scan_clause': '( {33492} ( ( {cash} ( latest volume >= 1 day ago volume * 2 or 1 day ago volume >= 2 days ago volume * 2 ) ) and ( {cash} ( ( {cash} ( ( {cash} ( ( {cash} ( abs ( weekly ema ( weekly close , 5 ) - weekly ema ( weekly close , 13 ) ) / weekly ema ( weekly close , 13 ) < 0.005 ) ) ) ) and 1 week ago high < 2 weeks ago high and weekly high > 1 week ago high ) ) or ( {cash} ( weekly ema ( weekly close , 5 ) > weekly ema ( weekly close , 13 ) and 1 week ago  ema ( weekly close , 5 )<= 1 week ago  ema ( weekly close , 13 ) ) ) ) ) ) ) '}\n",
    "n100_d_ma100 = {'scan_clause': '( {33619} ( ( {cash} ( latest volume >= 1 day ago volume * 2 or 1 day ago volume >= 2 days ago volume * 2 ) ) and ( {cash} ( ( {cash} ( abs ( latest sma ( latest close , 100 ) - latest low ) / latest low < 0.05 ) ) or ( {cash} ( latest low < latest sma ( latest close , 100 ) and latest high > latest sma ( latest close , 100 ) ) ) ) ) ) ) '}\n",
    "n100_m_ma100 = {'scan_clause': '( {33619} ( ( {cash} ( latest volume >= 1 day ago volume * 2 or 1 day ago volume >= 2 days ago volume * 2 ) ) and ( {cash} ( ( {cash} ( abs ( monthly sma ( monthly close , 100 ) - monthly low ) / monthly low < 0.05 ) ) or ( {cash} ( latest low < monthly sma ( monthly close , 100 ) and latest high > monthly sma ( monthly close , 100 ) ) ) ) ) ) ) '}\n",
    "n100_w_ma100 = {'scan_clause': '( {33619} ( ( {cash} ( latest volume >= 1 day ago volume * 2 or 1 day ago volume >= 2 days ago volume * 2 ) ) and ( {cash} ( ( {cash} ( ( {cash} ( abs ( weekly sma ( weekly close , 100 ) - weekly low ) / weekly low < 0.05 ) ) or ( {cash} ( latest low < weekly sma ( weekly close , 100 ) and latest high > weekly sma ( weekly close , 100 ) ) ) ) ) ) ) ) ) '}\n",
    "n100_d_ma513 = {'scan_clause': '( {33619} ( ( {cash} ( latest volume >= 1 day ago volume * 2 or 1 day ago volume >= 2 days ago volume * 2 ) ) and ( {cash} ( ( {cash} ( ( {cash} ( ( {cash} ( latest close > latest ema ( latest close , 5 ) and 1 day ago  close <= 1 day ago  ema ( latest close , 5 ) ) ) or ( {cash} ( abs ( latest ema ( latest close , 5 ) - latest ema ( latest close , 13 ) ) / latest ema ( latest close , 13 ) < 0.005 ) ) ) ) and 1 day ago high < 2 days ago high and latest high > 1 day ago high ) ) or ( {cash} ( latest ema ( latest close , 5 ) > latest ema ( latest close , 13 ) and 1 day ago  ema ( latest close , 5 )<= 1 day ago  ema ( latest close , 13 ) ) ) ) ) ) ) '}\n",
    "n100_m_ma513 = {'scan_clause': '( {33619} ( ( {cash} ( latest volume >= 1 day ago volume * 2 or 1 day ago volume >= 2 days ago volume * 2 ) ) and ( {cash} ( ( {cash} ( ( {cash} ( ( {cash} ( abs ( monthly ema ( monthly close , 5 ) - monthly ema ( monthly close , 13 ) ) / monthly ema ( monthly close , 13 ) < 0.005 ) ) ) ) and 1 month ago high < 2 months ago high and monthly high > 1 month ago high ) ) or ( {cash} ( monthly ema ( monthly close , 5 ) > monthly ema ( monthly close , 13 ) and 1 month ago  ema ( monthly close , 5 )<= 1 month ago  ema ( monthly close , 13 ) ) ) ) ) ) ) '}\n",
    "n100_w_ma513 = {'scan_clause': '( {33619} ( ( {cash} ( latest volume >= 1 day ago volume * 2 or 1 day ago volume >= 2 days ago volume * 2 ) ) and ( {cash} ( ( {cash} ( ( {cash} ( ( {cash} ( abs ( weekly ema ( weekly close , 5 ) - weekly ema ( weekly close , 13 ) ) / weekly ema ( weekly close , 13 ) < 0.005 ) ) ) ) and 1 week ago high < 2 weeks ago high and weekly high > 1 week ago high ) ) or ( {cash} ( weekly ema ( weekly close , 5 ) > weekly ema ( weekly close , 13 ) and 1 week ago  ema ( weekly close , 5 )<= 1 week ago  ema ( weekly close , 13 ) ) ) ) ) ) ) '}\n",
    "m50_m_ma100 = {'scan_clause': '( {136492} ( ( {cash} ( latest volume >= 1 day ago volume * 2 or 1 day ago volume >= 2 days ago volume * 2 ) ) and ( {cash} ( ( {cash} ( abs ( monthly sma ( monthly close , 100 ) - monthly low ) / monthly low < 0.05 ) ) or ( {cash} ( latest low < monthly sma ( monthly close , 100 ) and latest high > monthly sma ( monthly close , 100 ) ) ) ) ) ) ) '}\n",
    "m50_d_ma100 = {'scan_clause': '( {136492} ( ( {cash} ( latest volume >= 1 day ago volume * 2 or 1 day ago volume >= 2 days ago volume * 2 ) ) and ( {cash} ( ( {cash} ( abs ( latest sma ( latest close , 100 ) - latest low ) / latest low < 0.05 ) ) or ( {cash} ( latest low < latest sma ( latest close , 100 ) and latest high > latest sma ( latest close , 100 ) ) ) ) ) ) ) '}\n",
    "m50_w_ma100 = {'scan_clause': '( {136492} ( ( {cash} ( latest volume >= 1 day ago volume * 2 or 1 day ago volume >= 2 days ago volume * 2 ) ) and ( {cash} ( ( {cash} ( ( {cash} ( abs ( weekly sma ( weekly close , 100 ) - weekly low ) / weekly low < 0.05 ) ) or ( {cash} ( latest low < weekly sma ( weekly close , 100 ) and latest high > weekly sma ( weekly close , 100 ) ) ) ) ) ) ) ) ) '}\n",
    "m50_d_ma513 = {'scan_clause': '( {136492} ( ( {cash} ( latest volume >= 1 day ago volume * 2 or 1 day ago volume >= 2 days ago volume * 2 ) ) and ( {cash} ( ( {cash} ( ( {cash} ( ( {cash} ( latest close > latest ema ( latest close , 5 ) and 1 day ago  close <= 1 day ago  ema ( latest close , 5 ) ) ) or ( {cash} ( abs ( latest ema ( latest close , 5 ) - latest ema ( latest close , 13 ) ) / latest ema ( latest close , 13 ) < 0.005 ) ) ) ) and 1 day ago high < 2 days ago high and latest high > 1 day ago high ) ) or ( {cash} ( latest ema ( latest close , 5 ) > latest ema ( latest close , 13 ) and 1 day ago  ema ( latest close , 5 )<= 1 day ago  ema ( latest close , 13 ) ) ) ) ) ) ) '}\n",
    "m50_w_ma513 = {'scan_clause': '( {136492} ( ( {cash} ( latest volume >= 1 day ago volume * 2 or 1 day ago volume >= 2 days ago volume * 2 ) ) and ( {cash} ( ( {cash} ( ( {cash} ( ( {cash} ( abs ( weekly ema ( weekly close , 5 ) - weekly ema ( weekly close , 13 ) ) / weekly ema ( weekly close , 13 ) < 0.005 ) ) ) ) and 1 week ago high < 2 weeks ago high and weekly high > 1 week ago high ) ) or ( {cash} ( weekly ema ( weekly close , 5 ) > weekly ema ( weekly close , 13 ) and 1 week ago  ema ( weekly close , 5 )<= 1 week ago  ema ( weekly close , 13 ) ) ) ) ) ) ) '}\n",
    "m50_m_ma513 = {'scan_clause': '( {136492} ( ( {cash} ( latest volume >= 1 day ago volume * 2 or 1 day ago volume >= 2 days ago volume * 2 ) ) and ( {cash} ( ( {cash} ( ( {cash} ( ( {cash} ( abs ( monthly ema ( monthly close , 5 ) - monthly ema ( monthly close , 13 ) ) / monthly ema ( monthly close , 13 ) < 0.005 ) ) ) ) and 1 month ago high < 2 months ago high and monthly high > 1 month ago high ) ) or ( {cash} ( monthly ema ( monthly close , 5 ) > monthly ema ( monthly close , 13 ) and 1 month ago  ema ( monthly close , 5 )<= 1 month ago  ema ( monthly close , 13 ) ) ) ) ) ) ) '}\n",
    "n200_m_ma100 = {'scan_clause': '( {46553} ( ( {cash} ( latest volume >= 1 day ago volume * 2 or 1 day ago volume >= 2 days ago volume * 2 ) ) and ( {cash} ( ( {cash} ( abs ( monthly sma ( monthly close , 100 ) - monthly low ) / monthly low < 0.05 ) ) or ( {cash} ( latest low < monthly sma ( monthly close , 100 ) and latest high > monthly sma ( monthly close , 100 ) ) ) ) ) ) ) '}\n",
    "n200_w_ma100 = {'scan_clause': '( {46553} ( ( {cash} ( latest volume >= 1 day ago volume * 2 or 1 day ago volume >= 2 days ago volume * 2 ) ) and ( {cash} ( ( {cash} ( ( {cash} ( abs ( weekly sma ( weekly close , 100 ) - weekly low ) / weekly low < 0.05 ) ) or ( {cash} ( latest low < weekly sma ( weekly close , 100 ) and latest high > weekly sma ( weekly close , 100 ) ) ) ) ) ) ) ) ) '}\n",
    "n200_d_ma100 = {'scan_clause': '( {46553} ( ( {cash} ( latest volume >= 1 day ago volume * 2 or 1 day ago volume >= 2 days ago volume * 2 ) ) and ( {cash} ( ( {cash} ( abs ( latest sma ( latest close , 100 ) - latest low ) / latest low < 0.05 ) ) or ( {cash} ( latest low < latest sma ( latest close , 100 ) and latest high > latest sma ( latest close , 100 ) ) ) ) ) ) ) '}\n",
    "n200_m_ma513 = {'scan_clause': '( {46553} ( ( {cash} ( latest volume >= 1 day ago volume * 2 or 1 day ago volume >= 2 days ago volume * 2 ) ) and ( {cash} ( ( {cash} ( ( {cash} ( ( {cash} ( abs ( monthly ema ( monthly close , 5 ) - monthly ema ( monthly close , 13 ) ) / monthly ema ( monthly close , 13 ) < 0.005 ) ) ) ) and 1 month ago high < 2 months ago high and monthly high > 1 month ago high ) ) or ( {cash} ( monthly ema ( monthly close , 5 ) > monthly ema ( monthly close , 13 ) and 1 month ago  ema ( monthly close , 5 )<= 1 month ago  ema ( monthly close , 13 ) ) ) ) ) ) ) '}\n",
    "n200_d_ma513 = {'scan_clause': '( {46553} ( ( {cash} ( latest volume >= 1 day ago volume * 2 or 1 day ago volume >= 2 days ago volume * 2 ) ) and ( {cash} ( ( {cash} ( ( {cash} ( ( {cash} ( latest close > latest ema ( latest close , 5 ) and 1 day ago  close <= 1 day ago  ema ( latest close , 5 ) ) ) or ( {cash} ( abs ( latest ema ( latest close , 5 ) - latest ema ( latest close , 13 ) ) / latest ema ( latest close , 13 ) < 0.005 ) ) ) ) and 1 day ago high < 2 days ago high and latest high > 1 day ago high ) ) or ( {cash} ( latest ema ( latest close , 5 ) > latest ema ( latest close , 13 ) and 1 day ago  ema ( latest close , 5 )<= 1 day ago  ema ( latest close , 13 ) ) ) ) ) ) ) '}\n",
    "n200_w_ma513 = {'scan_clause': '( {46553} ( ( {cash} ( latest volume >= 1 day ago volume * 2 or 1 day ago volume >= 2 days ago volume * 2 ) ) and ( {cash} ( ( {cash} ( ( {cash} ( ( {cash} ( abs ( weekly ema ( weekly close , 5 ) - weekly ema ( weekly close , 13 ) ) / weekly ema ( weekly close , 13 ) < 0.005 ) ) ) ) and 1 week ago high < 2 weeks ago high and weekly high > 1 week ago high ) ) or ( {cash} ( weekly ema ( weekly close , 5 ) > weekly ema ( weekly close , 13 ) and 1 week ago  ema ( weekly close , 5 )<= 1 week ago  ema ( weekly close , 13 ) ) ) ) ) ) ) '}"
   ]
  },
  {
   "cell_type": "code",
   "execution_count": 5,
   "metadata": {},
   "outputs": [],
   "source": [
    "with requests.session() as s:\n",
    "    r_data = s.get(url)\n",
    "    soup = bs(r_data.content, 'lxml')\n",
    "    meta = soup.find('meta', {'name': 'csrf-token'})[\"content\"]"
   ]
  },
  {
   "cell_type": "code",
   "execution_count": 6,
   "metadata": {},
   "outputs": [],
   "source": [
    "header = {\"x-csrf-token\": meta}\n",
    "data_n500_w_ma100 = s.post(url, headers=header, data=n500_w_ma100).json()\n",
    "data_n500_m_ma100 = s.post(url, headers=header, data=n500_m_ma100).json()\n",
    "data_n500_d_ma100 = s.post(url, headers=header, data=n500_d_ma100).json()\n",
    "data_n500_d_ma513 = s.post(url, headers=header, data=n500_d_ma513).json()\n",
    "data_n500_m_ma513 = s.post(url, headers=header, data=n500_m_ma513).json()\n",
    "data_n500_w_ma513 = s.post(url, headers=header, data=n500_w_ma513).json()\n",
    "data_cash_m_ma100 = s.post(url, headers=header, data=cash_m_ma100).json()\n",
    "data_cash_d_ma100 = s.post(url, headers=header, data=cash_d_ma100).json()\n",
    "data_cash_d_ma513 = s.post(url, headers=header, data=cash_d_ma513).json()\n",
    "data_cash_m_ma513 = s.post(url, headers=header, data=cash_m_ma513).json()\n",
    "data_cash_w_ma513 = s.post(url, headers=header, data=cash_w_ma513).json()\n",
    "data_n50_m_ma100 = s.post(url, headers=header, data=n50_m_ma100).json()\n",
    "data_n50_d_ma100 = s.post(url, headers=header, data=n50_d_ma100).json()\n",
    "data_n50_w_ma100 = s.post(url, headers=header, data=n50_w_ma100).json()\n",
    "data_n50_d_ma513 = s.post(url, headers=header, data=n50_d_ma513).json()\n",
    "data_n50_m_ma513 = s.post(url, headers=header, data=n50_m_ma513).json()\n",
    "data_n50_w_ma513 = s.post(url, headers=header, data=n50_w_ma513).json()\n",
    "data_n100_m_ma100 = s.post(url, headers=header, data=n100_m_ma100).json()\n",
    "data_n100_d_ma100 = s.post(url, headers=header, data=n100_d_ma100).json()\n",
    "data_n100_w_ma100 = s.post(url, headers=header, data=n100_w_ma100).json()\n",
    "data_n100_d_ma513 = s.post(url, headers=header, data=n100_d_ma513).json()\n",
    "data_n100_m_ma513 = s.post(url, headers=header, data=n100_m_ma513).json()\n",
    "data_n100_w_ma513 = s.post(url, headers=header, data=n100_w_ma513).json()\n",
    "data_m50_m_ma100 = s.post(url, headers=header, data=m50_m_ma100).json()\n",
    "data_m50_d_ma100 = s.post(url, headers=header, data=m50_d_ma100).json()\n",
    "data_m50_w_ma100 = s.post(url, headers=header, data=m50_w_ma100).json()\n",
    "data_m50_d_ma513 = s.post(url, headers=header, data=m50_d_ma513).json()\n",
    "data_m50_m_ma513 = s.post(url, headers=header, data=m50_m_ma513).json()\n",
    "data_m50_w_ma513 = s.post(url, headers=header, data=m50_w_ma513).json()\n",
    "data_n200_m_ma100 = s.post(url, headers=header, data=n200_m_ma100).json()\n",
    "data_n200_d_ma100 = s.post(url, headers=header, data=n200_d_ma100).json()\n",
    "data_n200_w_ma100 = s.post(url, headers=header, data=n200_w_ma100).json()\n",
    "data_n200_m_ma513 = s.post(url, headers=header, data=n200_m_ma513).json()\n",
    "data_n200_d_ma513 = s.post(url, headers=header, data=n200_d_ma513).json()\n",
    "data_n200_w_ma513 = s.post(url, headers=header, data=n200_w_ma513).json()"
   ]
  },
  {
   "cell_type": "code",
   "execution_count": 7,
   "metadata": {},
   "outputs": [],
   "source": [
    "df_n500_w_ma100 = pd.DataFrame(data_n500_w_ma100['data']).assign(Source = 'Nifty 500 weekly MA 100')\n",
    "df_n500_m_ma100 = pd.DataFrame(data_n500_m_ma100['data']).assign(Source = 'Nifty 500- Monthly 100 MA')\n",
    "df_n500_d_ma100 = pd.DataFrame(data_n500_d_ma100['data']).assign(Source = 'Nifty 500- Daily 100 MA')\n",
    "df_n500_d_ma513 = pd.DataFrame(data_n500_d_ma513['data']).assign(Source = 'Nifty 500- Daily 513 MA')\n",
    "df_n500_m_ma513 = pd.DataFrame(data_n500_m_ma513['data']).assign(Source = 'Nifty 500- Monthly 513 MA')\n",
    "df_n500_w_ma513 = pd.DataFrame(data_n500_w_ma513['data']).assign(Source = 'Nifty 500 - weekly - 513')\n",
    "df_cash_m_ma100 = pd.DataFrame(data_cash_m_ma100['data']).assign(Source = 'Nifty Cash- Monthly 100 MA')\n",
    "df_cash_d_ma100 = pd.DataFrame(data_cash_d_ma100['data']).assign(Source = 'Nifty Cash- Daily 100 MA')\n",
    "df_cash_d_ma513 = pd.DataFrame(data_cash_d_ma513['data']).assign(Source = 'Nifty Cash - Daily 513 MA')\n",
    "df_cash_m_ma513 = pd.DataFrame(data_cash_m_ma513['data']).assign(Source = 'Nifty Cash- Monthly 513 MA')\n",
    "df_cash_w_ma513 = pd.DataFrame(data_cash_w_ma513['data']).assign(Source = 'Nifty Cash - weekly 5/13')\n",
    "df_n50_m_ma100 = pd.DataFrame(data_n50_m_ma100['data']).assign(Source = 'Nifty 50- Monthly 100 MA')\n",
    "df_n50_d_ma100 = pd.DataFrame(data_n50_d_ma100['data']).assign(Source = 'Nifty 50- Daily 100 MA')\n",
    "df_n50_w_ma100 = pd.DataFrame(data_n50_w_ma100['data']).assign(Source = 'Nifty 50 - weekly - 100 MA')\n",
    "df_n50_d_ma513 = pd.DataFrame(data_n50_d_ma513['data']).assign(Source = 'Nifty 50- Daily 513 MA')\n",
    "df_n50_m_ma513 = pd.DataFrame(data_n50_m_ma513['data']).assign(Source = 'Nifty 50- Monthly 513 MA')\n",
    "df_n50_w_ma513 = pd.DataFrame(data_n50_w_ma513['data']).assign(Source = 'Nifty 50 - weekly - 513')\n",
    "df_n100_m_ma100 = pd.DataFrame(data_n100_m_ma100['data']).assign(Source = 'Nifty 100- Monthly 100 MA')\n",
    "df_n100_d_ma100 = pd.DataFrame(data_n100_d_ma100['data']).assign(Source = 'Nifty 100- Daily 100 MA')\n",
    "df_n100_w_ma100 = pd.DataFrame(data_n100_w_ma100['data']).assign(Source = 'Nifty 100 - weekly - 100 MA')\n",
    "df_n100_d_ma513 = pd.DataFrame(data_n100_d_ma513['data']).assign(Source = 'Nifty 100- Daily 513 MA')\n",
    "df_n100_m_ma513 = pd.DataFrame(data_n100_m_ma513['data']).assign(Source = 'Nifty 100- Monthly 513 MA')\n",
    "df_n100_w_ma513 = pd.DataFrame(data_n100_w_ma513['data']).assign(Source = 'Nifty 100 - weekly - 513')\n",
    "df_m50_m_ma100 = pd.DataFrame(data_m50_m_ma100['data']).assign(Source = 'Midcap 50- Monthly 100 MA')\n",
    "df_m50_d_ma100 = pd.DataFrame(data_m50_d_ma100['data']).assign(Source = 'Midcap 50- Daily 100 MA')\n",
    "df_m50_w_ma100 = pd.DataFrame(data_m50_w_ma100['data']).assign(Source = 'Midcap 50 - weekly - 100 MA')\n",
    "df_m50_d_ma513 = pd.DataFrame(data_m50_d_ma513['data']).assign(Source = 'Midcap 50- Daily 513 MA')\n",
    "df_m50_m_ma513 = pd.DataFrame(data_m50_m_ma513['data']).assign(Source = 'Midcap 50- Monthly 513 MA')\n",
    "df_m50_w_ma513 = pd.DataFrame(data_m50_w_ma513['data']).assign(Source = 'Midcap 50 - weekly - 513')\n",
    "df_n200_m_ma100 = pd.DataFrame(data_n200_m_ma100['data']).assign(Source = 'Nifty 200- Monthly 100 MA')\n",
    "df_n200_d_ma100 = pd.DataFrame(data_n200_d_ma100['data']).assign(Source = 'Nifty 200- Daily 100 MA')\n",
    "df_n200_w_ma100 = pd.DataFrame(data_n200_w_ma100['data']).assign(Source = 'Nifty 200 - weekly - 100 MA')\n",
    "df_n200_m_ma513 = pd.DataFrame(data_n200_m_ma513['data']).assign(Source = 'Nifty 200- Monthly 513 MA')\n",
    "df_n200_d_ma513 = pd.DataFrame(data_n200_d_ma513['data']).assign(Source = 'Nifty 200- Daily 513 MA')\n",
    "df_n200_w_ma513 = pd.DataFrame(data_n200_w_ma513['data']).assign(Source = 'Nifty 200 - weekly - 513')"
   ]
  },
  {
   "cell_type": "code",
   "execution_count": 8,
   "metadata": {},
   "outputs": [],
   "source": [
    "final_df = pd.concat(\n",
    "    [df_n500_w_ma100, df_n500_m_ma100, df_n500_d_ma100, df_n500_d_ma513, df_n500_m_ma513, df_n500_w_ma513, df_cash_m_ma100, df_cash_d_ma100, df_cash_d_ma513, df_cash_m_ma513, df_cash_w_ma513, df_n50_m_ma100, df_n50_d_ma100, df_n50_w_ma100, df_n50_d_ma513, df_n50_m_ma513, df_n50_w_ma513, df_n100_m_ma100, df_n100_d_ma100, df_n100_w_ma100, df_n100_d_ma513, df_n100_m_ma513, df_n100_w_ma513, df_m50_m_ma100, df_m50_d_ma100, df_m50_w_ma100, df_m50_d_ma513, df_m50_m_ma513, df_m50_w_ma513, df_n200_m_ma100, df_n200_d_ma100, df_n200_w_ma100, df_n200_m_ma513, df_n200_d_ma513, df_n200_w_ma513])"
   ]
  },
  {
   "cell_type": "code",
   "execution_count": 9,
   "metadata": {},
   "outputs": [],
   "source": [
    "final_df.rename(columns={'nsecode': 'Symbols'}, inplace=True)"
   ]
  },
  {
   "cell_type": "code",
   "execution_count": 10,
   "metadata": {},
   "outputs": [],
   "source": [
    "final_df.to_excel(rf'C:\\Users\\ishan\\Downloads\\StockPaid\\Paid{d1}.xlsx', index=False)"
   ]
  }
 ],
 "metadata": {
  "kernelspec": {
   "display_name": "Python 3 (ipykernel)",
   "language": "python",
   "name": "python3"
  },
  "language_info": {
   "codemirror_mode": {
    "name": "ipython",
    "version": 3
   },
   "file_extension": ".py",
   "mimetype": "text/x-python",
   "name": "python",
   "nbconvert_exporter": "python",
   "pygments_lexer": "ipython3",
   "version": "3.11.8"
  }
 },
 "nbformat": 4,
 "nbformat_minor": 2
}
