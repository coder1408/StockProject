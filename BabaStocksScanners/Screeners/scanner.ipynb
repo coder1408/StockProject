{
 "cells": [
  {
   "cell_type": "code",
   "execution_count": 20,
   "metadata": {},
   "outputs": [],
   "source": [
    "import pandas as pd\n",
    "import requests\n",
    "from bs4 import BeautifulSoup as bs\n",
    "from datetime import date"
   ]
  },
  {
   "cell_type": "code",
   "execution_count": 21,
   "metadata": {},
   "outputs": [
    {
     "name": "stdout",
     "output_type": "stream",
     "text": [
      "QfRvuZCIO9eyhFy4bx1IT9pAIwkEkRbTYHIyNyLU\n"
     ]
    }
   ],
   "source": [
    "url = 'https://chartink.com/screener/process'\n",
    "\n",
    "cash_screener = {'scan_clause': '( {cash} ( ( {cash} ( latest volume >= 1 day ago volume * 2 or 1 day ago volume >= 2 days ago volume * 2 ) ) and( {33619} ( ( {cash} ( ( {cash} ( ( {cash} ( abs( weekly sma( weekly close , 100 ) - weekly low ) / weekly low < 0.05 ) ) or( {cash} ( latest low < weekly sma( weekly close , 100 ) and latest high > weekly sma( weekly close , 100 ) ) ) ) ) or( {cash} ( ( {cash} ( ( {cash} ( ( {cash} ( 5 weeks ago ema( 5 weeks ago close , 5 ) > 5 weeks ago ema( 5 weeks ago close , 13 ) and 6 weeks ago  ema( 5 weeks ago close , 5 )<= 6 weeks ago  ema( 5 weeks ago close , 13 ) ) ) or( {cash} ( 4 weeks ago ema( 4 weeks ago close , 5 ) > 4 weeks ago ema( 4 weeks ago close , 13 ) and 5 weeks ago  ema( 4 weeks ago close , 5 )<= 5 weeks ago  ema( 4 weeks ago close , 13 ) ) ) or( {cash} ( 3 weeks ago ema( 3 weeks ago close , 5 ) > 3 weeks ago ema( 3 weeks ago close , 13 ) and 4 weeks ago  ema( 3 weeks ago close , 5 )<= 4 weeks ago  ema( 3 weeks ago close , 13 ) ) ) or( {cash} ( 2 weeks ago ema( 2 weeks ago close , 5 ) > 2 weeks ago ema( 2 weeks ago close , 13 ) and 3 weeks ago  ema( 2 weeks ago close , 5 )<= 3 weeks ago  ema( 2 weeks ago close , 13 ) ) ) or( {cash} ( abs( 3 weeks ago ema( 3 weeks ago close , 5 ) - 3 weeks ago ema( 3 weeks ago close , 13 ) ) / 3 weeks ago ema( 3 weeks ago close , 13 ) < 0.005 ) ) or( {cash} ( abs( 2 weeks ago ema( 2 weeks ago close , 5 ) - 2 weeks ago ema( 2 weeks ago close , 13 ) ) / 2 weeks ago ema( 2 weeks ago close , 13 ) < 0.005 ) ) or( {cash} ( abs( 1 week ago ema( 1 week ago close , 5 ) - 1 week ago ema( 1 week ago close , 13 ) ) / 1 week ago ema( 1 week ago close , 13 ) < 0.005 ) ) ) ) and 1 week ago high < 2 weeks ago high and weekly high > 1 week ago high ) ) or( {cash} ( weekly ema( weekly close , 5 ) > weekly ema( weekly close , 13 ) and 1 week ago  ema( weekly close , 5 )<= 1 week ago  ema( weekly close , 13 ) ) ) ) ) ) ) or( {cash} ( ( {cash} ( ( {cash} ( abs( monthly sma( monthly close , 100 ) - monthly low ) / monthly low < 0.05 ) ) or( {cash} ( latest low < monthly sma( monthly close , 100 ) and latest high > monthly sma( monthly close , 100 ) ) ) ) ) or( {cash} ( ( {cash} ( ( {cash} ( ( {cash} ( 5 months ago ema( 5 months ago close , 5 ) > 5 months ago ema( 5 months ago close , 13 ) and 6 months ago  ema( 5 months ago close , 5 )<= 6 months ago  ema( 5 months ago close , 13 ) ) ) or( {cash} ( 4 months ago ema( 4 months ago close , 5 ) > 4 months ago ema( 4 months ago close , 13 ) and 5 months ago  ema( 4 months ago close , 5 )<= 5 months ago  ema( 4 months ago close , 13 ) ) ) or( {cash} ( 3 months ago ema( 3 months ago close , 5 ) > 3 months ago ema( 3 months ago close , 13 ) and 4 months ago  ema( 3 months ago close , 5 )<= 4 months ago  ema( 3 months ago close , 13 ) ) ) or( {cash} ( 2 months ago ema( 2 months ago close , 5 ) > 2 months ago ema( 2 months ago close , 13 ) and 3 months ago  ema( 2 months ago close , 5 )<= 3 months ago  ema( 2 months ago close , 13 ) ) ) or( {cash} ( abs( 3 months ago ema( 3 months ago close , 5 ) - 3 months ago ema( 3 months ago close , 13 ) ) / 3 months ago ema( 3 months ago close , 13 ) < 0.005 ) ) or( {cash} ( abs( 2 months ago ema( 2 months ago close , 5 ) - 2 months ago ema( 2 months ago close , 13 ) ) / 2 months ago ema( 2 months ago close , 13 ) < 0.005 ) ) or( {cash} ( abs( 1 month ago ema( 1 month ago close , 5 ) - 1 month ago ema( 1 month ago close , 13 ) ) / 1 month ago ema( 1 month ago close , 13 ) < 0.005 ) ) ) ) and 1 month ago high < 2 months ago high and monthly high > 1 month ago high ) ) or( {cash} ( monthly ema( monthly close , 5 ) > monthly ema( monthly close , 13 ) and 1 month ago  ema( monthly close , 5 )<= 1 month ago  ema( monthly close , 13 ) ) ) ) ) ) ) or( {cash} ( ( {cash} ( ( {cash} ( abs( latest sma( latest close , 100 ) - latest low ) / latest low < 0.05 ) ) or( {cash} ( latest low < latest sma( latest close , 100 ) and latest high > latest sma( latest close , 100 ) ) ) ) ) or( {cash} ( ( {cash} ( ( {cash} ( ( {cash} ( latest close > latest ema( latest close , 5 ) and 1 day ago  close <= 1 day ago  ema( latest close , 5 ) ) ) or( {cash} ( 5 days ago ema( latest close , 5 ) > 5 days ago ema( 5 days ago close , 13 ) and 6 days ago  ema( latest close , 5 )<= 6 days ago  ema( 5 days ago close , 13 ) ) ) or( {cash} ( 4 days ago ema( 4 days ago close , 5 ) > 4 days ago ema( 4 days ago close , 13 ) and 5 days ago  ema( 4 days ago close , 5 )<= 5 days ago  ema( 4 days ago close , 13 ) ) ) or( {cash} ( 3 days ago ema( 3 days ago close , 5 ) > 3 days ago ema( 3 days ago close , 13 ) and 4 days ago  ema( 3 days ago close , 5 )<= 4 days ago  ema( 3 days ago close , 13 ) ) ) or( {cash} ( 2 days ago ema( 2 days ago close , 5 ) > 2 days ago ema( 2 days ago close , 13 ) and 3 days ago  ema( 2 days ago close , 5 )<= 3 days ago  ema( 2 days ago close , 13 ) ) ) or( {cash} ( abs( 3 days ago ema( 3 days ago close , 5 ) - 3 days ago ema( 3 days ago close , 13 ) ) / 3 days ago ema( 3 days ago close , 13 ) < 0.005 ) ) or( {cash} ( abs( 2 days ago ema( 2 days ago close , 5 ) - 2 days ago ema( 2 days ago close , 13 ) ) / 2 days ago ema( 2 days ago close , 13 ) < 0.005 ) ) or( {cash} ( abs( 1 day ago ema( 1 day ago close , 5 ) - 1 day ago ema( 1 day ago close , 13 ) ) / 1 day ago ema( 1 day ago close , 13 ) < 0.005 ) ) ) ) and 1 day ago high < 2 days ago high and latest high > 1 day ago high ) ) or( {cash} ( latest ema( latest close , 5 ) > latest ema( latest close , 13 ) and 1 day ago  ema( latest close , 5 )<= 1 day ago  ema( latest close , 13 ) ) ) ) ) ) ) ) ) ) )' }\n",
    "nifty_50_screener = {'scan_clause': '( ( {33492} ( ( {cash} ( latest volume >= 1 day ago volume * 2 or 1 day ago volume >= 2 days ago volume * 2 ) ) and ( {33619} ( ( {cash} ( ( {cash} ( ( {cash} ( abs ( weekly sma ( weekly close , 100 ) - weekly low ) / weekly low < 0.05 ) ) or ( {cash} ( latest low < weekly sma ( weekly close , 100 ) and latest high > weekly sma ( weekly close , 100 ) ) ) ) ) or ( {cash} ( ( {cash} ( ( {cash} ( ( {cash} ( 5 weeks ago ema ( 5 weeks ago close , 5 ) > 5 weeks ago ema ( 5 weeks ago close , 13 ) and 6 weeks ago  ema ( 5 weeks ago close , 5 )<= 6 weeks ago  ema ( 5 weeks ago close , 13 ) ) ) or ( {cash} ( 4 weeks ago ema ( 4 weeks ago close , 5 ) > 4 weeks ago ema ( 4 weeks ago close , 13 ) and 5 weeks ago  ema ( 4 weeks ago close , 5 )<= 5 weeks ago  ema ( 4 weeks ago close , 13 ) ) ) or ( {cash} ( 3 weeks ago ema ( 3 weeks ago close , 5 ) > 3 weeks ago ema ( 3 weeks ago close , 13 ) and 4 weeks ago  ema ( 3 weeks ago close , 5 )<= 4 weeks ago  ema ( 3 weeks ago close , 13 ) ) ) or ( {cash} ( 2 weeks ago ema ( 2 weeks ago close , 5 ) > 2 weeks ago ema ( 2 weeks ago close , 13 ) and 3 weeks ago  ema ( 2 weeks ago close , 5 )<= 3 weeks ago  ema ( 2 weeks ago close , 13 ) ) ) or ( {cash} ( abs ( 3 weeks ago ema ( 3 weeks ago close , 5 ) - 3 weeks ago ema ( 3 weeks ago close , 13 ) ) / 3 weeks ago ema ( 3 weeks ago close , 13 ) < 0.005 ) ) or ( {cash} ( abs ( 2 weeks ago ema ( 2 weeks ago close , 5 ) - 2 weeks ago ema ( 2 weeks ago close , 13 ) ) / 2 weeks ago ema ( 2 weeks ago close , 13 ) < 0.005 ) ) or ( {cash} ( abs ( 1 week ago ema ( 1 week ago close , 5 ) - 1 week ago ema ( 1 week ago close , 13 ) ) / 1 week ago ema ( 1 week ago close , 13 ) < 0.005 ) ) ) ) and 1 week ago high < 2 weeks ago high and weekly high > 1 week ago high ) ) or ( {cash} ( weekly ema ( weekly close , 5 ) > weekly ema ( weekly close , 13 ) and 1 week ago  ema ( weekly close , 5 )<= 1 week ago  ema ( weekly close , 13 ) ) ) ) ) ) ) or ( {cash} ( ( {cash} ( ( {cash} ( abs ( monthly sma ( monthly close , 100 ) - monthly low ) / monthly low < 0.05 ) ) or ( {cash} ( latest low < monthly sma ( monthly close , 100 ) and latest high > monthly sma ( monthly close , 100 ) ) ) ) ) or ( {cash} ( ( {cash} ( ( {cash} ( ( {cash} ( 5 months ago ema ( 5 months ago close , 5 ) > 5 months ago ema ( 5 months ago close , 13 ) and 6 months ago  ema ( 5 months ago close , 5 )<= 6 months ago  ema ( 5 months ago close , 13 ) ) ) or ( {cash} ( 4 months ago ema ( 4 months ago close , 5 ) > 4 months ago ema ( 4 months ago close , 13 ) and 5 months ago  ema ( 4 months ago close , 5 )<= 5 months ago  ema ( 4 months ago close , 13 ) ) ) or ( {cash} ( 3 months ago ema ( 3 months ago close , 5 ) > 3 months ago ema ( 3 months ago close , 13 ) and 4 months ago  ema ( 3 months ago close , 5 )<= 4 months ago  ema ( 3 months ago close , 13 ) ) ) or ( {cash} ( 2 months ago ema ( 2 months ago close , 5 ) > 2 months ago ema ( 2 months ago close , 13 ) and 3 months ago  ema ( 2 months ago close , 5 )<= 3 months ago  ema ( 2 months ago close , 13 ) ) ) or ( {cash} ( abs ( 3 months ago ema ( 3 months ago close , 5 ) - 3 months ago ema ( 3 months ago close , 13 ) ) / 3 months ago ema ( 3 months ago close , 13 ) < 0.005 ) ) or ( {cash} ( abs ( 2 months ago ema ( 2 months ago close , 5 ) - 2 months ago ema ( 2 months ago close , 13 ) ) / 2 months ago ema ( 2 months ago close , 13 ) < 0.005 ) ) or ( {cash} ( abs ( 1 month ago ema ( 1 month ago close , 5 ) - 1 month ago ema ( 1 month ago close , 13 ) ) / 1 month ago ema ( 1 month ago close , 13 ) < 0.005 ) ) ) ) and 1 month ago high < 2 months ago high and monthly high > 1 month ago high ) ) or ( {cash} ( monthly ema ( monthly close , 5 ) > monthly ema ( monthly close , 13 ) and 1 month ago  ema ( monthly close , 5 )<= 1 month ago  ema ( monthly close , 13 ) ) ) ) ) ) ) or ( {cash} ( ( {cash} ( ( {cash} ( abs ( latest sma ( latest close , 100 ) - latest low ) / latest low < 0.05 ) ) or ( {cash} ( latest low < latest sma ( latest close , 100 ) and latest high > latest sma ( latest close , 100 ) ) ) ) ) or ( {cash} ( ( {cash} ( ( {cash} ( ( {cash} ( latest close > latest ema ( latest close , 5 ) and 1 day ago  close <= 1 day ago  ema ( latest close , 5 ) ) ) or ( {cash} ( 5 days ago ema ( latest close , 5 ) > 5 days ago ema ( 5 days ago close , 13 ) and 6 days ago  ema ( latest close , 5 )<= 6 days ago  ema ( 5 days ago close , 13 ) ) ) or ( {cash} ( 4 days ago ema ( 4 days ago close , 5 ) > 4 days ago ema ( 4 days ago close , 13 ) and 5 days ago  ema ( 4 days ago close , 5 )<= 5 days ago  ema ( 4 days ago close , 13 ) ) ) or ( {cash} ( 3 days ago ema ( 3 days ago close , 5 ) > 3 days ago ema ( 3 days ago close , 13 ) and 4 days ago  ema ( 3 days ago close , 5 )<= 4 days ago  ema ( 3 days ago close , 13 ) ) ) or ( {cash} ( 2 days ago ema ( 2 days ago close , 5 ) > 2 days ago ema ( 2 days ago close , 13 ) and 3 days ago  ema ( 2 days ago close , 5 )<= 3 days ago  ema ( 2 days ago close , 13 ) ) ) or ( {cash} ( abs ( 3 days ago ema ( 3 days ago close , 5 ) - 3 days ago ema ( 3 days ago close , 13 ) ) / 3 days ago ema ( 3 days ago close , 13 ) < 0.005 ) ) or ( {cash} ( abs ( 2 days ago ema ( 2 days ago close , 5 ) - 2 days ago ema ( 2 days ago close , 13 ) ) / 2 days ago ema ( 2 days ago close , 13 ) < 0.005 ) ) or ( {cash} ( abs ( 1 day ago ema ( 1 day ago close , 5 ) - 1 day ago ema ( 1 day ago close , 13 ) ) / 1 day ago ema ( 1 day ago close , 13 ) < 0.005 ) ) ) ) and 1 day ago high < 2 days ago high and latest high > 1 day ago high ) ) or ( {cash} ( latest ema ( latest close , 5 ) > latest ema ( latest close , 13 ) and 1 day ago  ema ( latest close , 5 )<= 1 day ago  ema ( latest close , 13 ) ) ) ) ) ) ) ) ) ) ) )' }\n",
    "midcap_50_screener = {'scan_clause': '( {136492} ( ( {cash} ( latest volume >= 1 day ago volume * 2 or 1 day ago volume >= 2 days ago volume * 2 ) ) and ( {33619} ( ( {cash} ( ( {cash} ( ( {cash} ( abs ( weekly sma ( weekly close , 100 ) - weekly low ) / weekly low < 0.05 ) ) or ( {cash} ( latest low < weekly sma ( weekly close , 100 ) and latest high > weekly sma ( weekly close , 100 ) ) ) ) ) or ( {cash} ( ( {cash} ( ( {cash} ( ( {cash} ( 5 weeks ago ema ( 5 weeks ago close , 5 ) > 5 weeks ago ema ( 5 weeks ago close , 13 ) and 6 weeks ago  ema ( 5 weeks ago close , 5 )<= 6 weeks ago  ema ( 5 weeks ago close , 13 ) ) ) or ( {cash} ( 4 weeks ago ema ( 4 weeks ago close , 5 ) > 4 weeks ago ema ( 4 weeks ago close , 13 ) and 5 weeks ago  ema ( 4 weeks ago close , 5 )<= 5 weeks ago  ema ( 4 weeks ago close , 13 ) ) ) or ( {cash} ( 3 weeks ago ema ( 3 weeks ago close , 5 ) > 3 weeks ago ema ( 3 weeks ago close , 13 ) and 4 weeks ago  ema ( 3 weeks ago close , 5 )<= 4 weeks ago  ema ( 3 weeks ago close , 13 ) ) ) or ( {cash} ( 2 weeks ago ema ( 2 weeks ago close , 5 ) > 2 weeks ago ema ( 2 weeks ago close , 13 ) and 3 weeks ago  ema ( 2 weeks ago close , 5 )<= 3 weeks ago  ema ( 2 weeks ago close , 13 ) ) ) or ( {cash} ( abs ( 3 weeks ago ema ( 3 weeks ago close , 5 ) - 3 weeks ago ema ( 3 weeks ago close , 13 ) ) / 3 weeks ago ema ( 3 weeks ago close , 13 ) < 0.005 ) ) or ( {cash} ( abs ( 2 weeks ago ema ( 2 weeks ago close , 5 ) - 2 weeks ago ema ( 2 weeks ago close , 13 ) ) / 2 weeks ago ema ( 2 weeks ago close , 13 ) < 0.005 ) ) or ( {cash} ( abs ( 1 week ago ema ( 1 week ago close , 5 ) - 1 week ago ema ( 1 week ago close , 13 ) ) / 1 week ago ema ( 1 week ago close , 13 ) < 0.005 ) ) ) ) and 1 week ago high < 2 weeks ago high and weekly high > 1 week ago high ) ) or ( {cash} ( weekly ema ( weekly close , 5 ) > weekly ema ( weekly close , 13 ) and 1 week ago  ema ( weekly close , 5 )<= 1 week ago  ema ( weekly close , 13 ) ) ) ) ) ) ) or ( {cash} ( ( {cash} ( ( {cash} ( abs ( monthly sma ( monthly close , 100 ) - monthly low ) / monthly low < 0.05 ) ) or ( {cash} ( latest low < monthly sma ( monthly close , 100 ) and latest high > monthly sma ( monthly close , 100 ) ) ) ) ) or ( {cash} ( ( {cash} ( ( {cash} ( ( {cash} ( 5 months ago ema ( 5 months ago close , 5 ) > 5 months ago ema ( 5 months ago close , 13 ) and 6 months ago  ema ( 5 months ago close , 5 )<= 6 months ago  ema ( 5 months ago close , 13 ) ) ) or ( {cash} ( 4 months ago ema ( 4 months ago close , 5 ) > 4 months ago ema ( 4 months ago close , 13 ) and 5 months ago  ema ( 4 months ago close , 5 )<= 5 months ago  ema ( 4 months ago close , 13 ) ) ) or ( {cash} ( 3 months ago ema ( 3 months ago close , 5 ) > 3 months ago ema ( 3 months ago close , 13 ) and 4 months ago  ema ( 3 months ago close , 5 )<= 4 months ago  ema ( 3 months ago close , 13 ) ) ) or ( {cash} ( 2 months ago ema ( 2 months ago close , 5 ) > 2 months ago ema ( 2 months ago close , 13 ) and 3 months ago  ema ( 2 months ago close , 5 )<= 3 months ago  ema ( 2 months ago close , 13 ) ) ) or ( {cash} ( abs ( 3 months ago ema ( 3 months ago close , 5 ) - 3 months ago ema ( 3 months ago close , 13 ) ) / 3 months ago ema ( 3 months ago close , 13 ) < 0.005 ) ) or ( {cash} ( abs ( 2 months ago ema ( 2 months ago close , 5 ) - 2 months ago ema ( 2 months ago close , 13 ) ) / 2 months ago ema ( 2 months ago close , 13 ) < 0.005 ) ) or ( {cash} ( abs ( 1 month ago ema ( 1 month ago close , 5 ) - 1 month ago ema ( 1 month ago close , 13 ) ) / 1 month ago ema ( 1 month ago close , 13 ) < 0.005 ) ) ) ) and 1 month ago high < 2 months ago high and monthly high > 1 month ago high ) ) or ( {cash} ( monthly ema ( monthly close , 5 ) > monthly ema ( monthly close , 13 ) and 1 month ago  ema ( monthly close , 5 )<= 1 month ago  ema ( monthly close , 13 ) ) ) ) ) ) ) or ( {cash} ( ( {cash} ( ( {cash} ( abs ( latest sma ( latest close , 100 ) - latest low ) / latest low < 0.05 ) ) or ( {cash} ( latest low < latest sma ( latest close , 100 ) and latest high > latest sma ( latest close , 100 ) ) ) ) ) or ( {cash} ( ( {cash} ( ( {cash} ( ( {cash} ( latest close > latest ema ( latest close , 5 ) and 1 day ago  close <= 1 day ago  ema ( latest close , 5 ) ) ) or ( {cash} ( 5 days ago ema ( latest close , 5 ) > 5 days ago ema ( 5 days ago close , 13 ) and 6 days ago  ema ( latest close , 5 )<= 6 days ago  ema ( 5 days ago close , 13 ) ) ) or ( {cash} ( 4 days ago ema ( 4 days ago close , 5 ) > 4 days ago ema ( 4 days ago close , 13 ) and 5 days ago  ema ( 4 days ago close , 5 )<= 5 days ago  ema ( 4 days ago close , 13 ) ) ) or ( {cash} ( 3 days ago ema ( 3 days ago close , 5 ) > 3 days ago ema ( 3 days ago close , 13 ) and 4 days ago  ema ( 3 days ago close , 5 )<= 4 days ago  ema ( 3 days ago close , 13 ) ) ) or ( {cash} ( 2 days ago ema ( 2 days ago close , 5 ) > 2 days ago ema ( 2 days ago close , 13 ) and 3 days ago  ema ( 2 days ago close , 5 )<= 3 days ago  ema ( 2 days ago close , 13 ) ) ) or ( {cash} ( abs ( 3 days ago ema ( 3 days ago close , 5 ) - 3 days ago ema ( 3 days ago close , 13 ) ) / 3 days ago ema ( 3 days ago close , 13 ) < 0.005 ) ) or ( {cash} ( abs ( 2 days ago ema ( 2 days ago close , 5 ) - 2 days ago ema ( 2 days ago close , 13 ) ) / 2 days ago ema ( 2 days ago close , 13 ) < 0.005 ) ) or ( {cash} ( abs ( 1 day ago ema ( 1 day ago close , 5 ) - 1 day ago ema ( 1 day ago close , 13 ) ) / 1 day ago ema ( 1 day ago close , 13 ) < 0.005 ) ) ) ) and 1 day ago high < 2 days ago high and latest high > 1 day ago high ) ) or ( {cash} ( latest ema ( latest close , 5 ) > latest ema ( latest close , 13 ) and 1 day ago  ema ( latest close , 5 )<= 1 day ago  ema ( latest close , 13 ) ) ) ) ) ) ) ) ) ) ) '}\n",
    "\n",
    "with requests.session() as s:\n",
    "    r_data = s.get(url)\n",
    "    soup = bs(r_data.content, 'lxml')\n",
    "    meta = soup.find('meta', {'name': 'csrf-token'})[\"content\"]\n",
    "    print(meta)"
   ]
  },
  {
   "cell_type": "code",
   "execution_count": 22,
   "metadata": {},
   "outputs": [],
   "source": [
    "header = {\"x-csrf-token\": meta}\n",
    "data_cash_screener = s.post(url, headers=header, data=cash_screener).json()\n",
    "data_nifty_50_screener = s.post(url, headers=header, data=nifty_50_screener).json()\n",
    "data_midcap_50_screener = s.post(url, headers=header, data=midcap_50_screener).json()"
   ]
  },
  {
   "cell_type": "code",
   "execution_count": 23,
   "metadata": {},
   "outputs": [
    {
     "name": "stdout",
     "output_type": "stream",
     "text": [
      "Empty DataFrame\n",
      "Columns: []\n",
      "Index: []\n"
     ]
    }
   ],
   "source": [
    "stock_list_cash_screener = pd.DataFrame(data_cash_screener['data'])\n",
    "stock_list_nifty_50_screener = pd.DataFrame(data_nifty_50_screener['data'])\n",
    "stock_list_midcap_50_screener = pd.DataFrame(data_midcap_50_screener['data'])\n",
    "print(stock_list_midcap_50_screener)"
   ]
  },
  {
   "cell_type": "code",
   "execution_count": 24,
   "metadata": {},
   "outputs": [
    {
     "data": {
      "text/html": [
       "<div>\n",
       "<style scoped>\n",
       "    .dataframe tbody tr th:only-of-type {\n",
       "        vertical-align: middle;\n",
       "    }\n",
       "\n",
       "    .dataframe tbody tr th {\n",
       "        vertical-align: top;\n",
       "    }\n",
       "\n",
       "    .dataframe thead th {\n",
       "        text-align: right;\n",
       "    }\n",
       "</style>\n",
       "<table border=\"1\" class=\"dataframe\">\n",
       "  <thead>\n",
       "    <tr style=\"text-align: right;\">\n",
       "      <th></th>\n",
       "      <th>nsecode</th>\n",
       "      <th>name</th>\n",
       "    </tr>\n",
       "  </thead>\n",
       "  <tbody>\n",
       "    <tr>\n",
       "      <th>0</th>\n",
       "      <td>GRASIM</td>\n",
       "      <td>Grasim Industries Limited</td>\n",
       "    </tr>\n",
       "    <tr>\n",
       "      <th>1</th>\n",
       "      <td>INDUSINDBK</td>\n",
       "      <td>Indusind Bank Limited</td>\n",
       "    </tr>\n",
       "    <tr>\n",
       "      <th>2</th>\n",
       "      <td>JSWSTEEL</td>\n",
       "      <td>Jsw Steel Limited</td>\n",
       "    </tr>\n",
       "    <tr>\n",
       "      <th>3</th>\n",
       "      <td>HINDALCO</td>\n",
       "      <td>Hindalco Industries Limited</td>\n",
       "    </tr>\n",
       "    <tr>\n",
       "      <th>4</th>\n",
       "      <td>TATASTEEL</td>\n",
       "      <td>Tata Steel Limited</td>\n",
       "    </tr>\n",
       "  </tbody>\n",
       "</table>\n",
       "</div>"
      ],
      "text/plain": [
       "      nsecode                         name\n",
       "0      GRASIM    Grasim Industries Limited\n",
       "1  INDUSINDBK        Indusind Bank Limited\n",
       "2    JSWSTEEL            Jsw Steel Limited\n",
       "3    HINDALCO  Hindalco Industries Limited\n",
       "4   TATASTEEL           Tata Steel Limited"
      ]
     },
     "execution_count": 24,
     "metadata": {},
     "output_type": "execute_result"
    }
   ],
   "source": [
    "stock_list_cash_screener = stock_list_cash_screener.drop(['sr', 'bsecode', 'per_chg', 'close', 'volume'], axis=1)\n",
    "stock_list_nifty_50_screener = stock_list_nifty_50_screener.drop(['sr', 'bsecode', 'per_chg', 'close', 'volume'], axis=1)\n",
    "stock_list_nifty_50_screener"
   ]
  },
  {
   "cell_type": "code",
   "execution_count": 25,
   "metadata": {},
   "outputs": [
    {
     "data": {
      "text/plain": [
       "'22.02.2024'"
      ]
     },
     "execution_count": 25,
     "metadata": {},
     "output_type": "execute_result"
    }
   ],
   "source": [
    "today = date.today()\n",
    "d1 = today.strftime(\"%d.%m.%Y\")\n",
    "d1"
   ]
  },
  {
   "cell_type": "code",
   "execution_count": 26,
   "metadata": {},
   "outputs": [],
   "source": [
    "stock_list_cash_screener = stock_list_cash_screener.to_string()\n",
    "stock_list_nifty_50_screener  = stock_list_nifty_50_screener.to_string()"
   ]
  }
 ],
 "metadata": {
  "kernelspec": {
   "display_name": "Python 3 (ipykernel)",
   "language": "python",
   "name": "python3"
  },
  "language_info": {
   "codemirror_mode": {
    "name": "ipython",
    "version": 3
   },
   "file_extension": ".py",
   "mimetype": "text/x-python",
   "name": "python",
   "nbconvert_exporter": "python",
   "pygments_lexer": "ipython3",
   "version": "3.11.0"
  }
 },
 "nbformat": 4,
 "nbformat_minor": 2
}
