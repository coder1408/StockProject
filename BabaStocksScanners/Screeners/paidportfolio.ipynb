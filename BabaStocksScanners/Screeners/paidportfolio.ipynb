{
 "cells": [
  {
   "cell_type": "code",
   "execution_count": 79,
   "metadata": {},
   "outputs": [],
   "source": [
    "import pandas as pd\n",
    "from datetime import date"
   ]
  },
  {
   "cell_type": "code",
   "execution_count": 80,
   "metadata": {},
   "outputs": [],
   "source": [
    "today = date.today()\n",
    "d1 = today.strftime(\"%d-%m-%Y\")"
   ]
  },
  {
   "cell_type": "code",
   "execution_count": 81,
   "metadata": {},
   "outputs": [
    {
     "data": {
      "text/html": [
       "<div>\n",
       "<style scoped>\n",
       "    .dataframe tbody tr th:only-of-type {\n",
       "        vertical-align: middle;\n",
       "    }\n",
       "\n",
       "    .dataframe tbody tr th {\n",
       "        vertical-align: top;\n",
       "    }\n",
       "\n",
       "    .dataframe thead th {\n",
       "        text-align: right;\n",
       "    }\n",
       "</style>\n",
       "<table border=\"1\" class=\"dataframe\">\n",
       "  <thead>\n",
       "    <tr style=\"text-align: right;\">\n",
       "      <th></th>\n",
       "      <th>sr</th>\n",
       "      <th>Symbol</th>\n",
       "      <th>name</th>\n",
       "      <th>bsecode</th>\n",
       "      <th>per_chg</th>\n",
       "      <th>close</th>\n",
       "      <th>volume</th>\n",
       "      <th>Source</th>\n",
       "    </tr>\n",
       "  </thead>\n",
       "  <tbody>\n",
       "    <tr>\n",
       "      <th>0</th>\n",
       "      <td>1</td>\n",
       "      <td>BALKRISIND</td>\n",
       "      <td>Balkrishna Industries Limited</td>\n",
       "      <td>502355.0</td>\n",
       "      <td>0.76</td>\n",
       "      <td>2268.00</td>\n",
       "      <td>15881</td>\n",
       "      <td>Nifty 500 weekly MA 100</td>\n",
       "    </tr>\n",
       "    <tr>\n",
       "      <th>1</th>\n",
       "      <td>2</td>\n",
       "      <td>METROPOLIS</td>\n",
       "      <td>Metropolis Healthcare Ltd</td>\n",
       "      <td>542650.0</td>\n",
       "      <td>-0.82</td>\n",
       "      <td>1699.05</td>\n",
       "      <td>18553</td>\n",
       "      <td>Nifty 500 weekly MA 100</td>\n",
       "    </tr>\n",
       "    <tr>\n",
       "      <th>2</th>\n",
       "      <td>3</td>\n",
       "      <td>BORORENEW</td>\n",
       "      <td>Borosil Renewables Ltd</td>\n",
       "      <td>502219.0</td>\n",
       "      <td>-1.02</td>\n",
       "      <td>563.30</td>\n",
       "      <td>225969</td>\n",
       "      <td>Nifty 500 weekly MA 100</td>\n",
       "    </tr>\n",
       "    <tr>\n",
       "      <th>3</th>\n",
       "      <td>4</td>\n",
       "      <td>CHEMPLASTS</td>\n",
       "      <td>Chemplast Sanmar Ltd</td>\n",
       "      <td>543336.0</td>\n",
       "      <td>-1.60</td>\n",
       "      <td>484.10</td>\n",
       "      <td>19590</td>\n",
       "      <td>Nifty 500 weekly MA 100</td>\n",
       "    </tr>\n",
       "    <tr>\n",
       "      <th>4</th>\n",
       "      <td>5</td>\n",
       "      <td>IEX</td>\n",
       "      <td>Indian Energy Exchange Ltd</td>\n",
       "      <td>540750.0</td>\n",
       "      <td>4.99</td>\n",
       "      <td>151.55</td>\n",
       "      <td>16170347</td>\n",
       "      <td>Nifty 500 weekly MA 100</td>\n",
       "    </tr>\n",
       "    <tr>\n",
       "      <th>...</th>\n",
       "      <td>...</td>\n",
       "      <td>...</td>\n",
       "      <td>...</td>\n",
       "      <td>...</td>\n",
       "      <td>...</td>\n",
       "      <td>...</td>\n",
       "      <td>...</td>\n",
       "      <td>...</td>\n",
       "    </tr>\n",
       "    <tr>\n",
       "      <th>228</th>\n",
       "      <td>35</td>\n",
       "      <td>RAJRILTD</td>\n",
       "      <td>Raj Rayon Industries Ltd</td>\n",
       "      <td>530699.0</td>\n",
       "      <td>1.98</td>\n",
       "      <td>28.30</td>\n",
       "      <td>18185</td>\n",
       "      <td>Nifty Cash - weekly 5/13</td>\n",
       "    </tr>\n",
       "    <tr>\n",
       "      <th>229</th>\n",
       "      <td>36</td>\n",
       "      <td>PRAKASHSTL</td>\n",
       "      <td>Prakash Steelage Limited</td>\n",
       "      <td>533239.0</td>\n",
       "      <td>3.11</td>\n",
       "      <td>8.30</td>\n",
       "      <td>1046144</td>\n",
       "      <td>Nifty Cash - weekly 5/13</td>\n",
       "    </tr>\n",
       "    <tr>\n",
       "      <th>230</th>\n",
       "      <td>1</td>\n",
       "      <td>BALKRISIND</td>\n",
       "      <td>Balkrishna Industries Limited</td>\n",
       "      <td>502355.0</td>\n",
       "      <td>0.76</td>\n",
       "      <td>2268.00</td>\n",
       "      <td>15881</td>\n",
       "      <td>Midcap 50 - weekly - 100 MA</td>\n",
       "    </tr>\n",
       "    <tr>\n",
       "      <th>231</th>\n",
       "      <td>1</td>\n",
       "      <td>BALKRISIND</td>\n",
       "      <td>Balkrishna Industries Limited</td>\n",
       "      <td>502355.0</td>\n",
       "      <td>0.76</td>\n",
       "      <td>2268.00</td>\n",
       "      <td>15881</td>\n",
       "      <td>Nifty 200 - weekly - 100 MA</td>\n",
       "    </tr>\n",
       "    <tr>\n",
       "      <th>232</th>\n",
       "      <td>1</td>\n",
       "      <td>CGPOWER</td>\n",
       "      <td>CG Power and Industrial Solutions Ltd</td>\n",
       "      <td>500093.0</td>\n",
       "      <td>1.69</td>\n",
       "      <td>472.85</td>\n",
       "      <td>1163321</td>\n",
       "      <td>Nifty 200 - weekly - 513</td>\n",
       "    </tr>\n",
       "  </tbody>\n",
       "</table>\n",
       "<p>233 rows × 8 columns</p>\n",
       "</div>"
      ],
      "text/plain": [
       "     sr      Symbol                                   name   bsecode  per_chg  \\\n",
       "0     1  BALKRISIND          Balkrishna Industries Limited  502355.0     0.76   \n",
       "1     2  METROPOLIS              Metropolis Healthcare Ltd  542650.0    -0.82   \n",
       "2     3   BORORENEW                 Borosil Renewables Ltd  502219.0    -1.02   \n",
       "3     4  CHEMPLASTS                   Chemplast Sanmar Ltd  543336.0    -1.60   \n",
       "4     5         IEX             Indian Energy Exchange Ltd  540750.0     4.99   \n",
       "..   ..         ...                                    ...       ...      ...   \n",
       "228  35    RAJRILTD               Raj Rayon Industries Ltd  530699.0     1.98   \n",
       "229  36  PRAKASHSTL               Prakash Steelage Limited  533239.0     3.11   \n",
       "230   1  BALKRISIND          Balkrishna Industries Limited  502355.0     0.76   \n",
       "231   1  BALKRISIND          Balkrishna Industries Limited  502355.0     0.76   \n",
       "232   1     CGPOWER  CG Power and Industrial Solutions Ltd  500093.0     1.69   \n",
       "\n",
       "       close    volume                       Source  \n",
       "0    2268.00     15881      Nifty 500 weekly MA 100  \n",
       "1    1699.05     18553      Nifty 500 weekly MA 100  \n",
       "2     563.30    225969      Nifty 500 weekly MA 100  \n",
       "3     484.10     19590      Nifty 500 weekly MA 100  \n",
       "4     151.55  16170347      Nifty 500 weekly MA 100  \n",
       "..       ...       ...                          ...  \n",
       "228    28.30     18185     Nifty Cash - weekly 5/13  \n",
       "229     8.30   1046144     Nifty Cash - weekly 5/13  \n",
       "230  2268.00     15881  Midcap 50 - weekly - 100 MA  \n",
       "231  2268.00     15881  Nifty 200 - weekly - 100 MA  \n",
       "232   472.85   1163321     Nifty 200 - weekly - 513  \n",
       "\n",
       "[233 rows x 8 columns]"
      ]
     },
     "execution_count": 81,
     "metadata": {},
     "output_type": "execute_result"
    }
   ],
   "source": [
    "all_stocks = pd.read_excel(rf\"C:\\Users\\ishan\\Downloads\\StockPaid\\Paid{d1}.xlsx\")\n",
    "portfolio = pd.read_excel(r\"C:\\Users\\ishan\\Downloads\\StockInfo\\SamplePortfolio-Yateen.xlsx\")\n",
    "\n",
    "all_stocks = pd.DataFrame(all_stocks)\n",
    "portfolio = pd.DataFrame(portfolio)\n",
    "all_stocks"
   ]
  },
  {
   "cell_type": "code",
   "execution_count": 82,
   "metadata": {},
   "outputs": [
    {
     "data": {
      "text/html": [
       "<div>\n",
       "<style scoped>\n",
       "    .dataframe tbody tr th:only-of-type {\n",
       "        vertical-align: middle;\n",
       "    }\n",
       "\n",
       "    .dataframe tbody tr th {\n",
       "        vertical-align: top;\n",
       "    }\n",
       "\n",
       "    .dataframe thead th {\n",
       "        text-align: right;\n",
       "    }\n",
       "</style>\n",
       "<table border=\"1\" class=\"dataframe\">\n",
       "  <thead>\n",
       "    <tr style=\"text-align: right;\">\n",
       "      <th></th>\n",
       "      <th>sr</th>\n",
       "      <th>Symbol</th>\n",
       "      <th>name</th>\n",
       "      <th>bsecode</th>\n",
       "      <th>per_chg</th>\n",
       "      <th>close</th>\n",
       "      <th>volume</th>\n",
       "      <th>Source</th>\n",
       "    </tr>\n",
       "  </thead>\n",
       "  <tbody>\n",
       "    <tr>\n",
       "      <th>34</th>\n",
       "      <td>11</td>\n",
       "      <td>MPSLTD</td>\n",
       "      <td>Mps Limited</td>\n",
       "      <td>532440.0</td>\n",
       "      <td>2.25</td>\n",
       "      <td>1660.00</td>\n",
       "      <td>13589</td>\n",
       "      <td>Nifty Cash- Daily 100 MA</td>\n",
       "    </tr>\n",
       "    <tr>\n",
       "      <th>213</th>\n",
       "      <td>20</td>\n",
       "      <td>CMSINFO</td>\n",
       "      <td>CMS Info Systems Ltd</td>\n",
       "      <td>543441.0</td>\n",
       "      <td>0.74</td>\n",
       "      <td>401.85</td>\n",
       "      <td>517738</td>\n",
       "      <td>Nifty Cash - weekly 5/13</td>\n",
       "    </tr>\n",
       "  </tbody>\n",
       "</table>\n",
       "</div>"
      ],
      "text/plain": [
       "     sr   Symbol                  name   bsecode  per_chg    close  volume  \\\n",
       "34   11   MPSLTD           Mps Limited  532440.0     2.25  1660.00   13589   \n",
       "213  20  CMSINFO  CMS Info Systems Ltd  543441.0     0.74   401.85  517738   \n",
       "\n",
       "                       Source  \n",
       "34   Nifty Cash- Daily 100 MA  \n",
       "213  Nifty Cash - weekly 5/13  "
      ]
     },
     "execution_count": 82,
     "metadata": {},
     "output_type": "execute_result"
    }
   ],
   "source": [
    "merged_df = all_stocks[all_stocks['Symbol'].isin(portfolio['Symbol'])]\n",
    "merged_df"
   ]
  },
  {
   "cell_type": "code",
   "execution_count": 83,
   "metadata": {},
   "outputs": [],
   "source": [
    "report_df = pd.pivot_table(merged_df, index=[\"Symbol\"], columns=\"Source\", aggfunc=lambda x: \"✔\", fill_value=\"\")"
   ]
  },
  {
   "cell_type": "code",
   "execution_count": 84,
   "metadata": {},
   "outputs": [],
   "source": [
    "report_df.columns = [f'{col[1]}' if col[1] else col[0] for col in report_df.columns]"
   ]
  },
  {
   "cell_type": "code",
   "execution_count": 85,
   "metadata": {},
   "outputs": [],
   "source": [
    "report_df = report_df.loc[:, ~report_df.columns.duplicated()]"
   ]
  },
  {
   "cell_type": "code",
   "execution_count": 86,
   "metadata": {},
   "outputs": [],
   "source": [
    "report_df.reset_index(inplace=True)"
   ]
  },
  {
   "cell_type": "code",
   "execution_count": 87,
   "metadata": {},
   "outputs": [],
   "source": [
    "import shutil\n",
    "from openpyxl import load_workbook, Workbook\n",
    "from openpyxl.utils.dataframe import dataframe_to_rows"
   ]
  },
  {
   "cell_type": "code",
   "execution_count": 88,
   "metadata": {},
   "outputs": [],
   "source": [
    "template_path = r\"C:\\Users\\ishan\\Downloads\\PortfolioAnalysisPaid\\SamplePortfolioAnalyzerReportFormat-Premium.xlsx\"\n",
    "report_path = rf\"C:\\Users\\ishan\\Downloads\\PortfolioAnalysisPaid\\PortfolioAnalysis{d1}.xlsx\""
   ]
  },
  {
   "cell_type": "code",
   "execution_count": 91,
   "metadata": {},
   "outputs": [
    {
     "data": {
      "text/plain": [
       "'C:\\\\Users\\\\ishan\\\\Downloads\\\\PortfolioAnalysisPaid\\\\PortfolioAnalysis03-03-2024.xlsx'"
      ]
     },
     "execution_count": 91,
     "metadata": {},
     "output_type": "execute_result"
    }
   ],
   "source": [
    "shutil.copyfile(template_path, report_path)"
   ]
  },
  {
   "cell_type": "code",
   "execution_count": 92,
   "metadata": {},
   "outputs": [],
   "source": [
    "wb = load_workbook(template_path)\n",
    "sheet = wb.active"
   ]
  },
  {
   "cell_type": "code",
   "execution_count": 93,
   "metadata": {},
   "outputs": [],
   "source": [
    "for idx, row in enumerate(dataframe_to_rows(report_df, index=False, header=False), start=13):\n",
    "    for col_idx, value in enumerate(row, start=1):\n",
    "        sheet.cell(row=idx, column=col_idx, value=value)"
   ]
  },
  {
   "cell_type": "code",
   "execution_count": 94,
   "metadata": {},
   "outputs": [],
   "source": [
    "wb.save(report_path)"
   ]
  },
  {
   "cell_type": "code",
   "execution_count": 49,
   "metadata": {},
   "outputs": [],
   "source": [
    "report_df.to_excel(rf\"C:\\Users\\ishan\\Downloads\\PortfolioAnalysisPaid\\PortfolioAnalysis{d1}.xlsx\", index=False)"
   ]
  },
  {
   "cell_type": "code",
   "execution_count": 32,
   "metadata": {},
   "outputs": [
    {
     "name": "stderr",
     "output_type": "stream",
     "text": [
      "c:\\Users\\ishan\\AppData\\Local\\Programs\\Python\\Python311\\Lib\\site-packages\\xlsxwriter\\workbook.py:369: UserWarning: Calling close() on already closed file.\n",
      "  warn(\"Calling close() on already closed file.\")\n"
     ]
    }
   ],
   "source": [
    "with pd.ExcelWriter(rf\"C:\\Users\\ishan\\Downloads\\PortfolioAnalysisPaid\\PortfolioAnalysis{d1}.xlsx\", engine=\"xlsxwriter\") as writer:\n",
    "    report_df.to_excel(writer, index=False, sheet_name=\"Sheet1\", columns=report_df.columns)\n",
    "\n",
    "    # Access the XlsxWriter workbook and worksheet objects\n",
    "    workbook  = writer.book\n",
    "    worksheet = writer.sheets[\"Sheet1\"]\n",
    "\n",
    "    # Adjust the column width to fit the content\n",
    "    for i, col in enumerate(report_df.columns):\n",
    "        max_len = max(report_df[col].astype(str).apply(len).max(), len(col))\n",
    "        worksheet.set_column(i, i, max_len + 2)  # Adding a little extra space\n",
    "\n",
    "# Close the Pandas Excel writer and output the Excel file\n",
    "writer.close()"
   ]
  },
  {
   "cell_type": "code",
   "execution_count": null,
   "metadata": {},
   "outputs": [],
   "source": []
  }
 ],
 "metadata": {
  "kernelspec": {
   "display_name": "Python 3",
   "language": "python",
   "name": "python3"
  },
  "language_info": {
   "codemirror_mode": {
    "name": "ipython",
    "version": 3
   },
   "file_extension": ".py",
   "mimetype": "text/x-python",
   "name": "python",
   "nbconvert_exporter": "python",
   "pygments_lexer": "ipython3",
   "version": "3.11.8"
  }
 },
 "nbformat": 4,
 "nbformat_minor": 2
}
