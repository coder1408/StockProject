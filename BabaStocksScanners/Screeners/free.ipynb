{
 "cells": [
  {
   "cell_type": "code",
   "execution_count": 1,
   "metadata": {},
   "outputs": [],
   "source": [
    "import pandas as pd\n",
    "from bs4 import BeautifulSoup as bs\n",
    "import requests\n",
    "from datetime import date"
   ]
  },
  {
   "cell_type": "code",
   "execution_count": null,
   "metadata": {},
   "outputs": [],
   "source": [
    "today = date.today()\n",
    "d1 = today.strftime(\"%d-%m-%Y\")"
   ]
  },
  {
   "cell_type": "code",
   "execution_count": null,
   "metadata": {},
   "outputs": [],
   "source": [
    "url = 'https://chartink.com/screener/process'\n",
    "\n",
    "ma20_cross_below = {'scan_clause': '( {cash} ( latest close < latest sma ( latest close , 20 ) and 1 day ago  close >= 1 day ago  sma ( latest close , 20 ) ) ) '}\n",
    "ma50_cross_below = {'scan_clause': '( {cash} ( latest close < latest sma ( latest close , 50 ) and 1 day ago  close >= 1 day ago  sma ( latest close , 50 ) ) ) '}\n",
    "ma100_cross_below = {'scan_clause': '( {cash} ( latest close < latest sma ( latest close , 100 ) and 1 day ago  close >= 1 day ago  sma ( latest close , 100 ) ) ) '}\n",
    "ma200_cross_below = {'scan_clause': '( {cash} ( latest close < latest sma ( latest close , 200 ) and 1 day ago  close >= 1 day ago  sma ( latest close , 200 ) ) ) '}\n",
    "ma50_200_cross_below = {'scan_clause': '( {cash} ( latest sma ( latest close , 50 ) < latest sma ( latest close , 200 ) and 1 day ago  sma ( latest close , 50 )>= 1 day ago  sma ( latest close , 200 ) ) ) '}\n",
    "ma200_cross = {'scan_clause': '( {cash} ( latest close > latest sma ( latest close , 200 ) and 1 day ago  close <= 1 day ago  sma ( latest close , 200 ) ) ) '}\n",
    "ma100_cross = {'scan_clause': '( {cash} ( latest close > latest sma ( latest close , 100 ) and 1 day ago  close <= 1 day ago  sma ( latest close , 100 ) ) ) '}\n",
    "ma50_cross = {'scan_clause': '( {cash} ( latest close > latest sma ( latest close , 50 ) and 1 day ago  close <= 1 day ago  sma ( latest close , 50 ) ) ) '}\n",
    "ma20_cross = {'scan_clause': '( {cash} ( latest close > latest sma ( latest close , 20 ) and 1 day ago  close <= 1 day ago  sma ( latest close , 20 ) ) ) '}\n",
    "ma50_200_cross = {'scan_clause': '( {cash} ( latest sma ( latest close , 50 ) > latest sma ( latest close , 200 ) and 1 day ago  sma ( latest close , 50 )<= 1 day ago  sma ( latest close , 200 ) ) ) '}"
   ]
  },
  {
   "cell_type": "code",
   "execution_count": null,
   "metadata": {},
   "outputs": [],
   "source": [
    "with requests.session() as s:\n",
    "    r_data = s.get(url)\n",
    "    soup = bs(r_data.content, 'lxml')\n",
    "    meta = soup.find('meta', {'name': 'csrf-token'})[\"content\"]"
   ]
  },
  {
   "cell_type": "code",
   "execution_count": null,
   "metadata": {},
   "outputs": [],
   "source": [
    "header = {'x-csrf-token': meta}\n",
    "data_ma20_cross_below = s.post(url, headers=header, data=ma20_cross_below).json()\n",
    "data_ma50_cross_below = s.post(url, headers=header, data=ma50_cross_below).json()\n",
    "data_ma100_cross_below = s.post(url, headers=header, data=ma100_cross_below).json()\n",
    "data_ma200_cross_below = s.post(url, headers=header, data=ma200_cross_below).json()\n",
    "data_ma50_200_cross_below = s.post(url, headers=header, data=ma50_200_cross_below).json()\n",
    "data_ma200_cross = s.post(url, headers=header, data=ma200_cross).json()\n",
    "data_ma100_cross = s.post(url, headers=header, data=ma100_cross).json()\n",
    "data_ma50_cross = s.post(url, headers=header, data=ma50_cross).json()\n",
    "data_ma20_cross = s.post(url, headers=header, data=ma20_cross).json()\n",
    "data_ma50_200_cross = s.post(url, headers=header, data=ma50_200_cross).json()"
   ]
  },
  {
   "cell_type": "code",
   "execution_count": null,
   "metadata": {},
   "outputs": [],
   "source": [
    "df_20_ma_cross_below = pd.DataFrame(data_ma20_cross_below['data']).assign(Source = '20 MA crossover below')\n",
    "df_50_ma_cross_below = pd.DataFrame(data_ma50_cross_below['data']).assign(Source = '50 MA crossover below')\n",
    "df_100_ma_cross_below = pd.DataFrame(data_ma100_cross_below['data']).assign(Source = '100 MA crossover below')\n",
    "df_200_ma_cross_below = pd.DataFrame(data_ma200_cross_below['data']).assign(Source = '200 MA crossover below')\n",
    "df_50_200_ma_cross_below = pd.DataFrame(data_ma50_200_cross_below['data']).assign(Source = '50-200 MA crossover below')\n",
    "df_200_ma_cross = pd.DataFrame(data_ma200_cross['data']).assign(Source = '200 MA crossover')\n",
    "df_100_ma_cross = pd.DataFrame(data_ma100_cross['data']).assign(Source = '100 MA crossover')\n",
    "df_50_ma_cross = pd.DataFrame(data_ma50_cross['data']).assign(Source = '50 MA crossover')\n",
    "df_20_ma_cross = pd.DataFrame(data_ma20_cross['data']).assign(Source = '20 MA crossover')\n",
    "df_50_200_ma_cross = pd.DataFrame(data_ma50_200_cross['data']).assign(Source = '50-200 MA crossover')"
   ]
  },
  {
   "cell_type": "code",
   "execution_count": null,
   "metadata": {},
   "outputs": [],
   "source": [
    "final_df = pd.concat([\n",
    "    df_20_ma_cross_below,\n",
    "    df_50_ma_cross_below,\n",
    "    df_100_ma_cross_below,\n",
    "    df_200_ma_cross_below,\n",
    "    df_50_200_ma_cross_below,\n",
    "    df_200_ma_cross,\n",
    "    df_100_ma_cross,\n",
    "    df_50_ma_cross,\n",
    "    df_20_ma_cross,\n",
    "    df_50_200_ma_cross\n",
    "])"
   ]
  },
  {
   "cell_type": "code",
   "execution_count": null,
   "metadata": {},
   "outputs": [],
   "source": [
    "final_df.to_excel(rf'C:\\Users\\ishan\\Downloads\\StockInfo\\PortfolioAnalysis{d1}.xlsx', index=False)"
   ]
  }
 ],
 "metadata": {
  "kernelspec": {
   "display_name": "Python 3",
   "language": "python",
   "name": "python3"
  },
  "language_info": {
   "codemirror_mode": {
    "name": "ipython",
    "version": 3
   },
   "file_extension": ".py",
   "mimetype": "text/x-python",
   "name": "python",
   "nbconvert_exporter": "python",
   "pygments_lexer": "ipython3",
   "version": "3.11.8"
  }
 },
 "nbformat": 4,
 "nbformat_minor": 2
}
